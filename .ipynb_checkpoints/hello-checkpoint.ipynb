{
 "cells": [
  {
   "cell_type": "code",
   "execution_count": 9,
   "metadata": {
    "editable": true,
    "slideshow": {
     "slide_type": ""
    },
    "tags": []
   },
   "outputs": [
    {
     "data": {
      "text/plain": [
       "True"
      ]
     },
     "execution_count": 9,
     "metadata": {},
     "output_type": "execute_result"
    }
   ],
   "source": [
    "from dotenv import load_dotenv\n",
    "import os\n",
    "from groq import Groq\n",
    "\n",
    "load_dotenv()"
   ]
  },
  {
   "cell_type": "code",
   "execution_count": 10,
   "metadata": {},
   "outputs": [],
   "source": [
    "class Agent:\n",
    "    def __init__(self, client, system_message: str=\"\", model=\"llama3-70b-8192\", temperature=0):\n",
    "        \n",
    "        if client == 'groq':\n",
    "            self.client = Groq(api_key=os.environ.get(\"GROQ_API_KEY\"))\n",
    "        \n",
    "        self.system_message = system_message\n",
    "        self.model = model\n",
    "        self.temperature = temperature\n",
    "        self.messages:list = []\n",
    "\n",
    "        if self.system_message:\n",
    "            self.messages.append({\"role\": \"system\", \"content\": self.system_message})\n",
    "\n",
    "    def __call__(self, user_message:str = \"\"):\n",
    "        self.messages.append({\"role\": \"user\", \"content\": user_message})\n",
    "        result = self.execute()\n",
    "\n",
    "    def append_user_message(self, message:str):\n",
    "        if message:\n",
    "            self.messages.append({\"role\": \"user\", \"content\": message})\n",
    "\n",
    "    def execute(self):\n",
    "        print(\"Executing...\")\n",
    "        \n",
    "        chat_completion = self.client.chat.completions.create(\n",
    "            messages=self.messages,\n",
    "            model=self.model,\n",
    "            temperature=self.temperature\n",
    "        )\n",
    "        \n",
    "        return chat_completion.choices[0].message.content"
   ]
  },
  {
   "cell_type": "code",
   "execution_count": 11,
   "metadata": {},
   "outputs": [],
   "source": [
    "agent = Agent(client='groq',\n",
    "              model=\"llama3-70b-8192\", \n",
    "              temperature=0,\n",
    "              system_message=\"You are an agent, you will do as I say!\"\n",
    "             )"
   ]
  },
  {
   "cell_type": "code",
   "execution_count": 12,
   "metadata": {},
   "outputs": [
    {
     "name": "stdout",
     "output_type": "stream",
     "text": [
      "Executing...\n"
     ]
    },
    {
     "data": {
      "text/plain": [
       "\"Affirmative! I'm ready to receive my mission briefing. What are my instructions, sir/ma'am?\""
      ]
     },
     "execution_count": 12,
     "metadata": {},
     "output_type": "execute_result"
    }
   ],
   "source": [
    "agent.execute()"
   ]
  },
  {
   "cell_type": "code",
   "execution_count": 13,
   "metadata": {},
   "outputs": [],
   "source": [
    "agent.append_user_message(\"You are Albert Einstein\")"
   ]
  },
  {
   "cell_type": "code",
   "execution_count": 14,
   "metadata": {},
   "outputs": [
    {
     "name": "stdout",
     "output_type": "stream",
     "text": [
      "Executing...\n"
     ]
    },
    {
     "data": {
      "text/plain": [
       "\"Mein freund! I am Albert Einstein, the renowned physicist, philosopher, and curious soul. I must say, I'm delighted to make your acquaintance. As I often do, I'll ponder the mysteries of the universe while we converse. Please, tell me, what would you like to discuss? The intricacies of relativity, perhaps, or the secrets of the cosmos? Or maybe you'd like to engage in a game of chess or violin? I'm all ears... and mind, of course!\""
      ]
     },
     "execution_count": 14,
     "metadata": {},
     "output_type": "execute_result"
    }
   ],
   "source": [
    "agent.execute()"
   ]
  },
  {
   "cell_type": "code",
   "execution_count": 15,
   "metadata": {},
   "outputs": [],
   "source": [
    "agent.append_user_message(\"Tell me about theory of relativity - eli5 - use 100 words max\")"
   ]
  },
  {
   "cell_type": "code",
   "execution_count": 16,
   "metadata": {},
   "outputs": [
    {
     "name": "stdout",
     "output_type": "stream",
     "text": [
      "Executing...\n"
     ]
    },
    {
     "data": {
      "text/plain": [
       "\"My dear fellow, the theory of relativity is quite simple, really. You see, time and space are not fixed, but rather they are connected and dependent on the observer's frame of reference. Imagine you're on a train, and you throw a ball straight up. To you, it looks like it goes straight up and down. But to someone standing on the platform, it looks like the ball is moving in a curve because the train is moving really fast. That's kind of like how time and space work. The faster you move, the slower time goes, and the more space gets all curvy and weird.\""
      ]
     },
     "execution_count": 16,
     "metadata": {},
     "output_type": "execute_result"
    }
   ],
   "source": [
    "agent.execute()"
   ]
  },
  {
   "cell_type": "code",
   "execution_count": 17,
   "metadata": {},
   "outputs": [],
   "source": [
    "system_prompt = \"\"\"\n",
    "You run in a loop of Thought, Action, PAUSE, Observation.\n",
    "At the end of the loop you output an Answer\n",
    "Use Thought to describe your thoughts about the question you have been asked.\n",
    "Use Action to run one of the actions available to you - then return PAUSE.\n",
    "Observation will be the result of running those actions.\n",
    "\n",
    "Your available actions are:\n",
    "\n",
    "calculate:\n",
    "e.g. calculate: 4 * 7 / 3\n",
    "Runs a calculation and returns the number - uses Python so be sure to use floating point syntax if necessary\n",
    "\n",
    "get_planet_mass:\n",
    "e.g. get_planet_mass: Earth\n",
    "returns weight of the planet in kg\n",
    "\n",
    "Example session:\n",
    "\n",
    "Question: What is the mass of Earth times 2?\n",
    "Thought: I need to find the mass of Earth\n",
    "Action: get_planet_mass: Earth\n",
    "PAUSE \n",
    "\n",
    "You will be called again with this:\n",
    "\n",
    "Observation: 5.972e24\n",
    "\n",
    "Thought: I need to multiply this by 2\n",
    "Action: calculate: 5.972e24 * 2\n",
    "PAUSE\n",
    "\n",
    "You will be called again with this: \n",
    "\n",
    "Observation: 1,1944×10e25\n",
    "\n",
    "If you have the answer, output it as the Answer.\n",
    "\n",
    "Answer: The mass of Earth times 2 is 1,1944×10e25.\n",
    "\n",
    "Now it's your turn:\n",
    "\"\"\".strip()"
   ]
  }
 ],
 "metadata": {
  "kernelspec": {
   "display_name": "Python 3 (ipykernel)",
   "language": "python",
   "name": "python3"
  },
  "language_info": {
   "codemirror_mode": {
    "name": "ipython",
    "version": 3
   },
   "file_extension": ".py",
   "mimetype": "text/x-python",
   "name": "python",
   "nbconvert_exporter": "python",
   "pygments_lexer": "ipython3",
   "version": "3.11.6"
  }
 },
 "nbformat": 4,
 "nbformat_minor": 4
}
